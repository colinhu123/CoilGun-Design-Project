{
 "cells": [
  {
   "cell_type": "markdown",
   "metadata": {},
   "source": [
    "<a id=\"ref2\"></a>\n",
    "<center><h2>条件语句</h2></center>"
   ]
  },
  {
   "cell_type": "markdown",
   "metadata": {},
   "source": [
    "<div class=\"alert alert-success alertsuccess\" style=\"margin-top: 20px\">\n",
    "<h4> [tip] Python中的真与假 </h4>  \n",
    "\n",
    "Python只把 `True` and `False` 识别为表示真或假的值，这意味着其他的写法都是不合法的，比如 *TRUE* 和 *true*都是不会被Python识别为逻辑值。\n",
    "\n",
    "<p></p>\n",
    "</div>\n",
    "\n",
    "<hr></hr>"
   ]
  },
  {
   "cell_type": "markdown",
   "metadata": {},
   "source": [
    "#### 与and 或or 非not 布尔逻辑：有事件p与q"
   ]
  },
  {
   "cell_type": "code",
   "execution_count": null,
   "metadata": {},
   "outputs": [],
   "source": [
    "p = True\n",
    "q = False\n",
    "p and q      "
   ]
  },
  {
   "cell_type": "code",
   "execution_count": null,
   "metadata": {},
   "outputs": [],
   "source": [
    "p or q     "
   ]
  },
  {
   "cell_type": "code",
   "execution_count": null,
   "metadata": {},
   "outputs": [],
   "source": [
    "True and False   # and 只要有一项为False就是False"
   ]
  },
  {
   "cell_type": "code",
   "execution_count": null,
   "metadata": {},
   "outputs": [],
   "source": [
    "True or False    # or 只有全是False才返回False"
   ]
  },
  {
   "cell_type": "markdown",
   "metadata": {},
   "source": [
    "- (**自学**)那数字的布尔运算呢？"
   ]
  },
  {
   "cell_type": "code",
   "execution_count": null,
   "metadata": {},
   "outputs": [],
   "source": [
    "#思考 \n",
    "print(1 or 2)  \n",
    "print(3 or 2)  \n",
    "print(0 or 2)  \n",
    "print(0 or 0) "
   ]
  },
  {
   "cell_type": "code",
   "execution_count": null,
   "outputs": [],
   "source": [
    "#思考\n",
    "print(1 and 3)  \n",
    "print(3 and 0)  \n",
    "print(0 and 2)  \n",
    "print(3 and 2)  \n",
    "print(0 and 0)  "
   ],
   "metadata": {
    "collapsed": false
   }
  },
  {
   "cell_type": "markdown",
   "metadata": {},
   "source": [
    "- Or：全0输出0，否则会输出第一个非0数字\n",
    "- And：有0即输出0，否则输出最后一个数"
   ]
  },
  {
   "cell_type": "markdown",
   "metadata": {},
   "source": [
    "#### 与、或、非联合判断的顺序：not -> and -> or"
   ]
  },
  {
   "cell_type": "code",
   "execution_count": null,
   "metadata": {},
   "outputs": [],
   "source": [
    "#思考\n",
    "1 or 0 and 3"
   ]
  },
  {
   "cell_type": "markdown",
   "metadata": {},
   "source": [
    "<hr></hr>\n",
    "<div class=\"alert alert-success alertsuccess\" style=\"margin-top: 20px\">\n",
    "<h4> Python中的逻辑运算 </h4>\n",
    "<p></p>\n",
    "你可以做如下各种逻辑运算:  \n",
    "<li> 判等: 1 == 2 </li>\n",
    "<li> 判不等: True != False </li>\n",
    "<li> 大于: 100 > 1 </li>\n",
    "<li> 大于或者等于: 100 >= 1 </li>\n",
    "<li> 小于: 1 < 2 </li>\n",
    "<li> 小于或者等于: 1 <= 2 </li>\n",
    "</div>"
   ]
  },
  {
   "cell_type": "markdown",
   "metadata": {},
   "source": [
    "下面判断一张1990年发表的专辑发行年份是否晚于1980年并早于2000年"
   ]
  },
  {
   "cell_type": "code",
   "execution_count": null,
   "metadata": {},
   "outputs": [],
   "source": [
    "album_year = 1990\n",
    "album_year > 1980 and album_year < 2000"
   ]
  },
  {
   "cell_type": "code",
   "execution_count": null,
   "metadata": {},
   "outputs": [],
   "source": [
    "#思考\n",
    "print(1 > 2 and 3 or 4 and 3 < 2 or not 4 > 5) "
   ]
  },
  {
   "cell_type": "markdown",
   "metadata": {},
   "source": [
    "### If 引导的条件语句\n",
    "if关键词引导条件语句，冒号提示缩进从属关系。比如假设我们需要判断专辑的发售年份，假如年份大于1980，就输出点什么。"
   ]
  },
  {
   "cell_type": "code",
   "execution_count": null,
   "metadata": {},
   "outputs": [],
   "source": [
    "album_year = 1983\n",
    "if album_year != 1980:\n",
    "    print (\"Album year is greater than 1980\")\n"
   ]
  },
  {
   "cell_type": "markdown",
   "metadata": {},
   "source": [
    "需要注意的是，缩进的代码只会在条件判断结果是True的情况下才会执行。"
   ]
  },
  {
   "cell_type": "code",
   "execution_count": null,
   "metadata": {},
   "outputs": [],
   "source": [
    "a = 1\n",
    "b = 2\n",
    "\n",
    "if a == 3 and b == 2:\n",
    "    print('hello')"
   ]
  },
  {
   "cell_type": "markdown",
   "metadata": {},
   "source": [
    "你可以增加else代码块，在else内部的代码块会在条件判断结果是False的情况下执行。\n",
    "**Syntax:** \n",
    "\n",
    "if (condition):\n",
    "    # do something\n",
    "else:\n",
    "    # do something else"
   ]
  },
  {
   "cell_type": "markdown",
   "metadata": {},
   "source": [
    "<div class=\"alert alert-success alertsuccess\" style=\"margin-top: 20px\">\n",
    "**[tip]** 这个缩进语法可以是跨越多行的。\n",
    "</div>"
   ]
  },
  {
   "cell_type": "markdown",
   "metadata": {},
   "source": [
    "让我们创建一个album_year变量，然后赋值1983。另外，让我们设置一个if语句检查其是否大于1980，如果是，那么输出一条消息“Album_Year is greater than 1980”，否则，我们就输出另一条消息“Album year is equal to or less than 1980”"
   ]
  },
  {
   "cell_type": "code",
   "execution_count": null,
   "metadata": {
    "scrolled": true
   },
   "outputs": [],
   "source": [
    "album_year = 1983\n",
    "if album_year == 1980:\n",
    "    print (\"Album year is greater than 1980\")\n",
    "else:\n",
    "    print (\"Album year is equal to or less than 1980\")"
   ]
  },
  {
   "cell_type": "markdown",
   "metadata": {},
   "source": [
    "### 多if情况将进行多次判断"
   ]
  },
  {
   "cell_type": "code",
   "execution_count": null,
   "metadata": {},
   "outputs": [],
   "source": [
    "#思考？输入1输出什么，输入2呢？\n",
    "answer = float(input(\"Enter a number from 1 to 15: \"))\n",
    "if answer== 1:\n",
    "    print (\"a\")\n",
    "if answer== 2:\n",
    "    print (\"b\")\n",
    "else:\n",
    "    print (\"c\")"
   ]
  },
  {
   "cell_type": "markdown",
   "metadata": {},
   "source": [
    "### 多条件判断"
   ]
  },
  {
   "cell_type": "code",
   "execution_count": null,
   "metadata": {},
   "outputs": [],
   "source": [
    "answer = float(input('How old are u?'))\n",
    "if answer >= 18:\n",
    "    print('you are an adult')\n",
    "elif answer >= 12:\n",
    "    print('you are a teenager')\n",
    "else:\n",
    "    print('you are a child.')\n",
    "    \n",
    "# 条件互斥，只会执行其中之一"
   ]
  },
  {
   "cell_type": "markdown",
   "metadata": {},
   "source": [
    "### 一种简洁的语句： 条件表达式"
   ]
  },
  {
   "cell_type": "code",
   "execution_count": null,
   "metadata": {},
   "outputs": [],
   "source": [
    "#普通常规写法\n",
    "\n",
    "food = input(\"What's your favorite food?\")\n",
    "if food == \"lamb\":\n",
    "    reply = \"yuck\" \n",
    "else:\n",
    "    reply = \"yum\""
   ]
  },
  {
   "cell_type": "code",
   "execution_count": null,
   "metadata": {},
   "outputs": [],
   "source": [
    "# 条件表达式\n",
    "\n",
    "food = input(\"What's your favorite food?\")\n",
    "reply = \"yuck\" if food == \"lamb\" else \"yum\"\n",
    "reply"
   ]
  },
  {
   "cell_type": "markdown",
   "metadata": {},
   "source": [
    "### 练习一：\n",
    "一家商场在降价促销。\n",
    "\n",
    "如果购买金额低于或等于100元，给10%折扣，如果购买金额大于100元会给20%折扣。\n",
    "\n",
    "编写一个程序，询问购买价格，再显示折扣和最终价格。"
   ]
  },
  {
   "cell_type": "code",
   "execution_count": null,
   "metadata": {},
   "outputs": [],
   "source": [
    "# code here\n",
    "\n",
    "\n",
    "\n",
    "\n",
    "\n",
    "\n"
   ]
  },
  {
   "cell_type": "markdown",
   "metadata": {},
   "source": [
    "### 练习二：\n",
    "一个足球队在寻找年龄在10-12岁之间的小女孩加入。\n",
    "\n",
    "编写一个程序，询问用户的年龄和性别（m表示男性，f表示女性），显示一条消息指出这个人是否可以加入足球队。"
   ]
  },
  {
   "cell_type": "code",
   "execution_count": null,
   "metadata": {},
   "outputs": [],
   "source": [
    "# code here\n",
    "\n",
    "\n",
    "\n",
    "\n",
    "\n",
    "\n",
    "\n",
    "\n",
    "\n",
    "\n"
   ]
  },
  {
   "cell_type": "markdown",
   "metadata": {},
   "source": [
    "<hr>"
   ]
  },
  {
   "cell_type": "markdown",
   "metadata": {},
   "source": [
    "<a id=\"ref3\"></a>\n",
    "<center><h2>循环Loops</h2></center>"
   ]
  },
  {
   "cell_type": "markdown",
   "metadata": {},
   "source": [
    "\n",
    "\n",
    "### `for` 循环\n",
    "for循环结构允许你为一个数据结构中的每一个元素执行一次代码块。比如说，你想要做到 “对数据集中的每一行执行一次处理” 或者 “对某一列中所有大于10的元素的每一个都执行一次处理”。for循环是十分实用的语句，它可以对大量的数据进行简单的处理。\n"
   ]
  },
  {
   "cell_type": "code",
   "execution_count": null,
   "metadata": {},
   "outputs": [],
   "source": [
    "released_dates = [1982,1980,1973,1992]\n",
    "year = 0\n",
    "for year in released_dates:   #每一次循环，year会取released_date里的不同值\n",
    "    print(year)  \n",
    "\n",
    "#print(year)\n",
    "#外面的year被改变了吗？"
   ]
  },
  {
   "cell_type": "markdown",
   "metadata": {},
   "source": [
    "#### 如果只是想要建立循环次数，可以用for循环搭配range函数"
   ]
  },
  {
   "cell_type": "code",
   "execution_count": null,
   "metadata": {},
   "outputs": [],
   "source": [
    "for i in ['a','b','c','d']:\n",
    "    print('ok')"
   ]
  },
  {
   "cell_type": "code",
   "execution_count": null,
   "metadata": {},
   "outputs": [],
   "source": [
    "for i in range(10):\n",
    "    print(i)"
   ]
  },
  {
   "cell_type": "code",
   "execution_count": null,
   "metadata": {},
   "outputs": [],
   "source": [
    "for i in range(5,11,3):\n",
    "    print(i)"
   ]
  },
  {
   "cell_type": "code",
   "execution_count": null,
   "metadata": {},
   "outputs": [],
   "source": [
    "#range函数有三个参数range（起点, 终点, 步长）\n",
    "for i in range(5,10,2):\n",
    "    print(i)"
   ]
  },
  {
   "cell_type": "code",
   "execution_count": null,
   "metadata": {},
   "outputs": [],
   "source": [
    "#反过来\n",
    "for j in range(10,0,-2):\n",
    "    print(j)"
   ]
  },
  {
   "cell_type": "code",
   "execution_count": null,
   "metadata": {},
   "outputs": [],
   "source": [
    "#用 for循环做累加\n",
    "sum = 0\n",
    "for i in [1,2,3,4,5]:\n",
    "    sum +=i\n",
    "print(sum)"
   ]
  },
  {
   "cell_type": "code",
   "execution_count": null,
   "metadata": {},
   "outputs": [],
   "source": [
    "#for循环嵌套\n",
    "for i in ['Bobi','Niko','Mike']:\n",
    "    print(i)\n",
    "    for j in i:\n",
    "        print(j)"
   ]
  },
  {
   "cell_type": "code",
   "execution_count": null,
   "metadata": {},
   "outputs": [],
   "source": [
    "#for循环嵌套可以打印乘法口诀表\n",
    "for multiplier in range(1,4):\n",
    "    for i in range(10):\n",
    "        print(multiplier,\"x\",i,\"=\",i*multiplier)\n",
    "    print()"
   ]
  },
  {
   "cell_type": "code",
   "execution_count": null,
   "metadata": {},
   "outputs": [],
   "source": [
    "# 打印* block\n",
    "\n",
    "for i in range(3):\n",
    "    for j in range(4):\n",
    "        print(\"*\",end=\" \")\n",
    "    print()"
   ]
  },
  {
   "cell_type": "code",
   "execution_count": 1,
   "metadata": {
    "ExecuteTime": {
     "end_time": "2023-10-23T09:47:45.497118Z",
     "start_time": "2023-10-23T09:47:45.492772Z"
    }
   },
   "outputs": [
    {
     "name": "stdout",
     "output_type": "stream",
     "text": [
      "\tDog \tBun \tKetchup\tMustard\tOnions\tCalories\n",
      "# 1 \t 0 \t 0 \t 0 \t 0 \t 0 \t 0\n",
      "# 2 \t 0 \t 0 \t 0 \t 0 \t 1 \t 40\n",
      "# 3 \t 0 \t 0 \t 0 \t 1 \t 0 \t 20\n",
      "# 4 \t 0 \t 0 \t 0 \t 1 \t 1 \t 60\n",
      "# 5 \t 0 \t 0 \t 1 \t 0 \t 0 \t 80\n",
      "# 6 \t 0 \t 0 \t 1 \t 0 \t 1 \t 120\n",
      "# 7 \t 0 \t 0 \t 1 \t 1 \t 0 \t 100\n",
      "# 8 \t 0 \t 0 \t 1 \t 1 \t 1 \t 140\n",
      "# 9 \t 0 \t 1 \t 0 \t 0 \t 0 \t 120\n",
      "# 10 \t 0 \t 1 \t 0 \t 0 \t 1 \t 160\n",
      "# 11 \t 0 \t 1 \t 0 \t 1 \t 0 \t 140\n",
      "# 12 \t 0 \t 1 \t 0 \t 1 \t 1 \t 180\n",
      "# 13 \t 0 \t 1 \t 1 \t 0 \t 0 \t 200\n",
      "# 14 \t 0 \t 1 \t 1 \t 0 \t 1 \t 240\n",
      "# 15 \t 0 \t 1 \t 1 \t 1 \t 0 \t 220\n",
      "# 16 \t 0 \t 1 \t 1 \t 1 \t 1 \t 260\n",
      "# 17 \t 1 \t 0 \t 0 \t 0 \t 0 \t 140\n",
      "# 18 \t 1 \t 0 \t 0 \t 0 \t 1 \t 180\n",
      "# 19 \t 1 \t 0 \t 0 \t 1 \t 0 \t 160\n",
      "# 20 \t 1 \t 0 \t 0 \t 1 \t 1 \t 200\n",
      "# 21 \t 1 \t 0 \t 1 \t 0 \t 0 \t 220\n",
      "# 22 \t 1 \t 0 \t 1 \t 0 \t 1 \t 260\n",
      "# 23 \t 1 \t 0 \t 1 \t 1 \t 0 \t 240\n",
      "# 24 \t 1 \t 0 \t 1 \t 1 \t 1 \t 280\n",
      "# 25 \t 1 \t 1 \t 0 \t 0 \t 0 \t 260\n",
      "# 26 \t 1 \t 1 \t 0 \t 0 \t 1 \t 300\n",
      "# 27 \t 1 \t 1 \t 0 \t 1 \t 0 \t 280\n",
      "# 28 \t 1 \t 1 \t 0 \t 1 \t 1 \t 320\n",
      "# 29 \t 1 \t 1 \t 1 \t 0 \t 0 \t 340\n",
      "# 30 \t 1 \t 1 \t 1 \t 0 \t 1 \t 380\n",
      "# 31 \t 1 \t 1 \t 1 \t 1 \t 0 \t 360\n",
      "# 32 \t 1 \t 1 \t 1 \t 1 \t 1 \t 400\n"
     ]
    }
   ],
   "source": [
    "dog_cal = 140\n",
    "bun_cal = 120\n",
    "ket_cal = 80\n",
    "mus_cal = 20\n",
    "onion_cal = 40\n",
    "\n",
    "print(\"\\tDog \\tBun \\tKetchup\\tMustard\\tOnions\\tCalories\")      #\\t是字节符 用来对齐\n",
    "count = 1\n",
    "for dog in [0,1]:\n",
    "    for bun in [0,1]:\n",
    "        for ketchup in [0,1]:\n",
    "            for mustard in [0,1]:\n",
    "                for onion in [0,1]:\n",
    "                    total_cal = (dog*dog_cal)+(bun*bun_cal)+\\\n",
    "                    (ketchup*ket_cal)+(mustard*mus_cal)+(onion*onion_cal)\n",
    "                    print(\"#\", count, \"\\t\", dog, \"\\t\", bun,\"\\t\",ketchup,\"\\t\",mustard,\"\\t\",onion,\"\\t\",total_cal)\n",
    "                    count = count + 1"
   ]
  },
  {
   "cell_type": "markdown",
   "metadata": {},
   "source": [
    "### `while` 循环\n",
    "当我们不知道一个循环应该何时结束的时候，for循环就不能很好地工作了。\n",
    "\n",
    "例如要重复执行一个操作直到某个数值达到了阈值,或循环终止是有条件的，此时就需要使用while循环。"
   ]
  },
  {
   "cell_type": "code",
   "execution_count": null,
   "metadata": {},
   "outputs": [],
   "source": [
    "while True:\n",
    "    print('ok')"
   ]
  },
  {
   "cell_type": "code",
   "execution_count": null,
   "metadata": {},
   "outputs": [],
   "source": [
    "# 比较特殊的True和 False\n",
    "1 == True"
   ]
  },
  {
   "cell_type": "code",
   "execution_count": null,
   "metadata": {
    "scrolled": true
   },
   "outputs": [],
   "source": [
    "0 == False"
   ]
  },
  {
   "cell_type": "code",
   "execution_count": null,
   "metadata": {},
   "outputs": [],
   "source": [
    "# 给while循环设置条件\n",
    "\n",
    "albums = 250\n",
    "total_albums = 0\n",
    "while total_albums < 1000:\n",
    "    total_albums = total_albums + albums\n",
    "    print (total_albums)"
   ]
  },
  {
   "cell_type": "code",
   "execution_count": null,
   "metadata": {},
   "outputs": [],
   "source": [
    "i = 0\n",
    "while i <= 10:\n",
    "    print(i)\n",
    "    i = i + 1"
   ]
  },
  {
   "cell_type": "markdown",
   "metadata": {},
   "source": [
    "### 用for循环和while循环解决相同问题：数值累加"
   ]
  },
  {
   "cell_type": "code",
   "execution_count": null,
   "metadata": {},
   "outputs": [],
   "source": [
    "#for循环，多少个数字相加，每次加几？\n",
    "\n",
    "n = int(input(\"How many numbers to sum?  \"))\n",
    "total = 0\n",
    "for i in range(n):\n",
    "    s = input(\"Enter number \" + str(i + 1) + \": \" )\n",
    "    total = total + int(s)\n",
    "print(\"The sum is \" + str(total))"
   ]
  },
  {
   "cell_type": "code",
   "execution_count": null,
   "metadata": {},
   "outputs": [],
   "source": [
    "#while循环\n",
    "\n",
    "n = int(input(\"How many numbers to sum?  \"))\n",
    "total = 0\n",
    "i = 1\n",
    "while i <= n:\n",
    "    s = input(\"Enter number \" + str(i) + \": \" )\n",
    "    total = total + int(s)\n",
    "    i = i + 1\n",
    "print(\"The sum is \" + str(total))"
   ]
  },
  {
   "cell_type": "markdown",
   "metadata": {},
   "source": [
    "### 用for循环和while循环解决相同问题：阶乘"
   ]
  },
  {
   "cell_type": "code",
   "execution_count": null,
   "metadata": {},
   "outputs": [],
   "source": [
    "n = int(input(\"Enter a number >= 0: \"))\n",
    "fact = 1\n",
    "for i in range( 2 ,n + 1):\n",
    "    fact = fact * i\n",
    "print(str(n) + \" factorial is \" + str(fact))\n",
    "    "
   ]
  },
  {
   "cell_type": "code",
   "execution_count": null,
   "metadata": {},
   "outputs": [],
   "source": [
    "# 练习：while循环怎么写？\n",
    "\n",
    "\n",
    "\n",
    "\n",
    "\n",
    "\n",
    "\n",
    "\n",
    "\n"
   ]
  },
  {
   "cell_type": "markdown",
   "metadata": {},
   "source": [
    "### 停止循环：break；  跳出循环：continue"
   ]
  },
  {
   "cell_type": "code",
   "execution_count": null,
   "metadata": {},
   "outputs": [],
   "source": [
    "total = 0\n",
    "while True:\n",
    "    s = input(\"Enter a numbers(or 'done'):  \")\n",
    "    if s == 'done':\n",
    "        break\n",
    "    num = int(s)\n",
    "    total = total + num\n",
    "print(\"The sum is \" + str(total))"
   ]
  },
  {
   "cell_type": "code",
   "execution_count": null,
   "metadata": {},
   "outputs": [],
   "source": [
    "for i in range(5):\n",
    "    print(\"i=\",i)\n",
    "    if i == 3:\n",
    "        continue\n",
    "    print(\"how are you.\")"
   ]
  },
  {
   "cell_type": "markdown",
   "metadata": {},
   "source": [
    "### 练习一：\n",
    "询问用户想要哪个数字的乘法表\n",
    "\n",
    "然后，再问用户最大乘到几。\n",
    "\n",
    "给出最终的乘法表"
   ]
  },
  {
   "cell_type": "code",
   "execution_count": null,
   "metadata": {},
   "outputs": [],
   "source": [
    "# code here\n",
    "\n",
    "\n",
    "\n",
    "\n",
    "\n",
    "\n",
    "\n",
    "\n",
    "\n"
   ]
  },
  {
   "cell_type": "markdown",
   "metadata": {},
   "source": [
    "### 练习二：\n",
    "有1、2、3、4个数字，能组成多少个互不相同且无重复数字的三位数？都是多少？"
   ]
  },
  {
   "cell_type": "code",
   "execution_count": 4,
   "metadata": {
    "ExecuteTime": {
     "end_time": "2023-10-23T09:53:41.994043Z",
     "start_time": "2023-10-23T09:53:41.940728Z"
    }
   },
   "outputs": [
    {
     "name": "stdout",
     "output_type": "stream",
     "text": [
      "the number is %f 13\n"
     ]
    }
   ],
   "source": [
    "#code here\n",
    "\n",
    "\n",
    "\n",
    "\n",
    "\n",
    "\n",
    "\n",
    "\n",
    "\n"
   ]
  },
  {
   "cell_type": "markdown",
   "metadata": {},
   "source": [
    "<hr>"
   ]
  },
  {
   "cell_type": "markdown",
   "metadata": {},
   "source": [
    "<a id='Function'></a>\n",
    "<center><h2>什么是函数?</h2></center>\n",
    "\n",
    "函数是一个具有特定功能的可重复使用的代码块。\n",
    "\n",
    "共有两种类型的函数：\n",
    "- **预定义函数**\n",
    "- **用户定义函数**"
   ]
  },
  {
   "cell_type": "markdown",
   "metadata": {},
   "source": [
    "<h3><b>预定义函数</b></h3>"
   ]
  },
  {
   "cell_type": "markdown",
   "metadata": {},
   "source": [
    "如同之前学习到的，使用max函数可以得到列表中最大的数值。"
   ]
  },
  {
   "cell_type": "code",
   "execution_count": null,
   "metadata": {},
   "outputs": [],
   "source": [
    "MyStr = 'abcdefg'\n",
    "len(MyStr)"
   ]
  },
  {
   "cell_type": "code",
   "execution_count": null,
   "metadata": {},
   "outputs": [],
   "source": [
    "album_ratings = [10.0,8.5,9.5,7.0,7.0,9.5,9.0,9.5] \n",
    "max(album_ratings)"
   ]
  },
  {
   "cell_type": "markdown",
   "metadata": {},
   "source": [
    "### enumerate()枚举函数"
   ]
  },
  {
   "cell_type": "markdown",
   "metadata": {},
   "source": [
    "- 语法：enumerate（sequence，[start=0]）"
   ]
  },
  {
   "cell_type": "code",
   "execution_count": 2,
   "metadata": {
    "ExecuteTime": {
     "end_time": "2023-10-23T09:50:35.175272Z",
     "start_time": "2023-10-23T09:50:35.121951Z"
    }
   },
   "outputs": [
    {
     "data": {
      "text/plain": "[(0, 'Spring'), (1, 'Summer'), (2, 'Fall'), (3, 'Winter')]"
     },
     "execution_count": 2,
     "metadata": {},
     "output_type": "execute_result"
    }
   ],
   "source": [
    "season = ['Spring','Summer','Fall','Winter']\n",
    "list(enumerate(season))"
   ]
  },
  {
   "cell_type": "code",
   "execution_count": 3,
   "metadata": {
    "ExecuteTime": {
     "end_time": "2023-10-23T09:50:44.750079Z",
     "start_time": "2023-10-23T09:50:44.696335Z"
    }
   },
   "outputs": [
    {
     "data": {
      "text/plain": "[(2, 'Spring'), (3, 'Summer'), (4, 'Fall'), (5, 'Winter')]"
     },
     "execution_count": 3,
     "metadata": {},
     "output_type": "execute_result"
    }
   ],
   "source": [
    "list(enumerate(season,start=2))"
   ]
  },
  {
   "cell_type": "markdown",
   "metadata": {},
   "source": [
    "- 与普通的for循环进行比较"
   ]
  },
  {
   "cell_type": "code",
   "execution_count": null,
   "metadata": {},
   "outputs": [],
   "source": [
    "i = 0\n",
    "seq = ['one','two','three']\n",
    "for element in seq:\n",
    "    print(i,seq[i])\n",
    "    i +=1"
   ]
  },
  {
   "cell_type": "code",
   "execution_count": null,
   "metadata": {},
   "outputs": [],
   "source": [
    "seq = ['one','two','three']\n",
    "for i,element in enumerate(seq):\n",
    "    print(i,element)"
   ]
  },
  {
   "cell_type": "markdown",
   "metadata": {},
   "source": [
    "<div class=\"alert alert-success alertsuccess\" style=\"margin-top: 20px\">\n",
    "<h4> [tip] 如何了解更多的Python预定义函数呢？</h4>\n",
    "<p></p>\n",
    "Python的预定义函数数量非常多，在这里无法一一介绍，如果有兴趣了解，可以去以下网站自行学习：\n",
    "http://www.astro.up.pt/~sousasag/Python_For_Astronomers/Python_qr.pdf\n",
    "</div>"
   ]
  },
  {
   "cell_type": "markdown",
   "metadata": {},
   "source": [
    "<h3>用户定义函数</h3> def关键字+函数名+参数+“：”"
   ]
  },
  {
   "cell_type": "markdown",
   "metadata": {},
   "source": [
    "- 结合字符串运用，定义一个函数返回文件扩展名："
   ]
  },
  {
   "cell_type": "code",
   "execution_count": null,
   "metadata": {},
   "outputs": [],
   "source": [
    "# 定义一个不需要传参的函数\n",
    "def printMyAddress():\n",
    "    print(\"Warren Sande\")\n",
    "    print(\"123 Main Street\")\n",
    "    print(\"Ottawa,Ontario,Canada\")\n",
    "    print('K2M 2E9')\n",
    "    print()\n",
    "    \n",
    "for i in range(2):\n",
    "    printMyAddress()"
   ]
  },
  {
   "cell_type": "code",
   "execution_count": null,
   "metadata": {},
   "outputs": [],
   "source": [
    "# 定义一个需要传参的函数\n",
    "def printMyAddress(myName,housename):\n",
    "    print(myName)\n",
    "    print(housename)\n",
    "    print(\"Ottawa,Ontario,Canada\")\n",
    "    print(\"K2M 2E9\")\n",
    "\n",
    "printMyAddress(\"XXZY\",\"Shanghai\")    "
   ]
  },
  {
   "cell_type": "code",
   "execution_count": null,
   "metadata": {},
   "outputs": [],
   "source": [
    "# 更多例子\n",
    "def get_ext(fname):\n",
    "    \"return the extension of file fname\"\n",
    "    dot = fname.rfind(\".\")   #用index合适吗？\n",
    "    if dot == -1:\n",
    "        return \" \"\n",
    "    else:\n",
    "        return fname[dot+1:]\n",
    "get_ext(\"string.py\")"
   ]
  },
  {
   "cell_type": "markdown",
   "metadata": {},
   "source": [
    "想要使用上述这个函数，只要采用 函数名+**`()`** 的形式就可以了"
   ]
  },
  {
   "cell_type": "markdown",
   "metadata": {},
   "source": [
    "### 练习：\n",
    "写一个求三角形面积的函数getArea，参数是length,width，并调用一下"
   ]
  },
  {
   "cell_type": "code",
   "execution_count": null,
   "metadata": {},
   "outputs": [],
   "source": [
    "# code here\n",
    "\n",
    "\n",
    "\n",
    "\n",
    "\n",
    "\n"
   ]
  },
  {
   "cell_type": "markdown",
   "metadata": {},
   "source": [
    "### 参数传递: 按顺序传参"
   ]
  },
  {
   "cell_type": "code",
   "execution_count": null,
   "metadata": {},
   "outputs": [],
   "source": [
    "def printMax(a,b):\n",
    "    if a > b:\n",
    "        print(a,\"is maximum\")\n",
    "    else:\n",
    "        print(b,\"is maximum\")\n",
    "printMax(3,4)"
   ]
  },
  {
   "cell_type": "markdown",
   "metadata": {},
   "source": [
    "#### 默认参数或关键字传参"
   ]
  },
  {
   "cell_type": "code",
   "execution_count": null,
   "metadata": {},
   "outputs": [],
   "source": [
    "def greet(name,greeting = \"Hello\"):\n",
    "    print(greeting, name + \"!\")\n",
    "    \n",
    "greet('Bob')\n"
   ]
  },
  {
   "cell_type": "code",
   "execution_count": null,
   "metadata": {},
   "outputs": [],
   "source": [
    "greet(\"Bob\",\"Good Morning!\")"
   ]
  },
  {
   "cell_type": "markdown",
   "metadata": {},
   "source": [
    "#### 不定长参数 *args：是一个列表，传入的参数会被放进列表里"
   ]
  },
  {
   "cell_type": "code",
   "execution_count": null,
   "metadata": {},
   "outputs": [],
   "source": [
    "def plus(*args):\n",
    "    sum = 0\n",
    "    for i in args:\n",
    "        sum = sum + i\n",
    "    print(sum)\n",
    "\n",
    "plus(1, 3, 5)\n",
    "plus(2, 4, 6, 8 )"
   ]
  },
  {
   "cell_type": "markdown",
   "metadata": {},
   "source": [
    "#### 关键字参数，**kwargs：是一个字典，传入的参数以键值对的形式存放到字典里。"
   ]
  },
  {
   "cell_type": "code",
   "execution_count": null,
   "metadata": {},
   "outputs": [],
   "source": [
    "def diction(**kwargs):\n",
    "    print(kwargs)\n",
    "\n",
    "diction(a=1,b=2,c=3)"
   ]
  },
  {
   "cell_type": "code",
   "execution_count": null,
   "metadata": {},
   "outputs": [],
   "source": [
    "#思考， a是多少？n还是k\n",
    "def sum(a, *args, **kwargs):\n",
    "    n = a\n",
    "    for i in args:\n",
    "        n =n  + i\n",
    "    for k in kwargs.values():\n",
    "        print(k)\n",
    "    return n\n",
    "\n",
    "a= sum(3, 1,2,3,4,5, b=10)\n",
    "print(a)"
   ]
  },
  {
   "cell_type": "markdown",
   "metadata": {},
   "source": [
    "### lambda的主体是一个表达式，而不是一个代码块。仅仅能在lambda表达式中封装有限的逻辑进去。\n"
   ]
  },
  {
   "cell_type": "markdown",
   "metadata": {},
   "source": [
    "函数名=lambda 参数：表达式"
   ]
  },
  {
   "cell_type": "code",
   "execution_count": null,
   "metadata": {},
   "outputs": [],
   "source": [
    "function = lambda x,y: x-y\n",
    "function(5,1)"
   ]
  },
  {
   "cell_type": "markdown",
   "metadata": {},
   "source": [
    "补充：filter()：简单的理解为过滤器，需要两个参数，(function，序列），如果返回True的话，过滤进列表"
   ]
  },
  {
   "cell_type": "code",
   "execution_count": null,
   "metadata": {},
   "outputs": [],
   "source": [
    "list(filter(lambda x:True if x % 3 == 0 else False, range(100)))"
   ]
  },
  {
   "cell_type": "markdown",
   "metadata": {},
   "source": [
    "补充map()：映射，但不论运算结果map()都将忠实反馈\n",
    "注意，filter()和map()中的function都必要有一个返回值。"
   ]
  },
  {
   "cell_type": "code",
   "execution_count": null,
   "metadata": {},
   "outputs": [],
   "source": [
    "list(map(lambda x:True if x % 3 == 0 else False, range(100)))"
   ]
  },
  {
   "cell_type": "markdown",
   "metadata": {},
   "source": [
    "<div class=\"alert alert-success alertsuccess\" style=\"margin-top: 20px\">\n",
    "<h4> [tip] 函数体现了编程的两个重要思想：抽象与封装</h4>\n",
    "<p></p>\n",
    "抽象与封装是程序设计的基本思想，函数很好地体现了这两种思想：\n",
    "<li>抽象：函数使程序员不用关心其具体的实现，只需用函数名调用它。例如，sqrt()函数是求平方根的函数，程序员调用它时无需知道平方根到底是如何计算的，只需要知道该函数可以计算平方根即可。抽象使得程序设计变得更加容易，程序员只需关注自己的部分，其他部分交给其他程序员开发的函数来解决。</li>\n",
    "<li>封装：函数将其功能封装了起来，函数的使用者只需要用函数名和参数来调用它，而无需关注其内部实现。如果函数的实现者对其实现进行了修改，例如提高了性能或降低了内存消耗，那么他只需在维护原有函数名和参数列表的情况下，替换该实现即可，而函数的使用者并不需要做任何修改，甚至感受不到函数的实现发生过变化。因此，封装使程序的可维护性大大提高了。</li>\n",
    "</div>"
   ]
  },
  {
   "cell_type": "markdown",
   "metadata": {},
   "source": [
    "<hr>"
   ]
  },
  {
   "cell_type": "markdown",
   "metadata": {},
   "source": [
    "<a id='ref3'></a>\n",
    "<center><h2>在函数中使用 if/else 语句</h2></center>\n",
    "\n",
    "当函数中有if语句时，如果希望根据某项条件产生不同的输出，那么return函数就会显得特别有用。"
   ]
  },
  {
   "cell_type": "markdown",
   "metadata": {},
   "source": [
    "- 一个有趣的例子,函数结合列表"
   ]
  },
  {
   "cell_type": "code",
   "execution_count": null,
   "metadata": {},
   "outputs": [],
   "source": [
    "#思考输出是什么\n",
    "def append_if_even(x, lst=[]):\n",
    "    if x%2 == 0:\n",
    "        lst.append(x)\n",
    "    return lst\n",
    "\n",
    "test = append_if_even(4)\n",
    "test = append_if_even(6)\n",
    "print(test)"
   ]
  },
  {
   "cell_type": "code",
   "execution_count": null,
   "metadata": {},
   "outputs": [],
   "source": [
    "#思考，这个呢？\n",
    "def append_if_even(x, lst=None):\n",
    "    if lst is None:\n",
    "        lst = []\n",
    "    if x%2 == 0:\n",
    "        lst.append(x)\n",
    "    return lst\n",
    "\n",
    "test = append_if_even(4)\n",
    "test = append_if_even(6)\n",
    "print(test)\n"
   ]
  },
  {
   "cell_type": "markdown",
   "metadata": {},
   "source": [
    "<a id='ref6'></a>\n",
    "<center><h2>函数变量作用域</h2></center>\n"
   ]
  },
  {
   "cell_type": "markdown",
   "metadata": {},
   "source": [
    "我们可以在函数内创建变量，让我们看一下printer函数返回了什么结果。"
   ]
  },
  {
   "cell_type": "code",
   "execution_count": null,
   "metadata": {},
   "outputs": [],
   "source": [
    "artist = \"Michael Jackson\"\n",
    "def printer(artist):\n",
    "    internal_var = artist\n",
    "    print (internal_var,\"is an artist\")\n",
    "    \n",
    "printer(artist)"
   ]
  },
  {
   "cell_type": "code",
   "execution_count": null,
   "metadata": {},
   "outputs": [],
   "source": [
    "internal_var"
   ]
  },
  {
   "cell_type": "markdown",
   "metadata": {},
   "source": [
    "函数外无法访问函数局部变量\n",
    "\n",
    "这是因为所有变量只会存在于创建它的函数里，我们把这些变量称为**局部变量**，表示它们在函数外部并不存在。\n",
    "\n",
    "但是，我们可以创建一个**全局变量**，使得它在函数外依旧存在。"
   ]
  },
  {
   "cell_type": "code",
   "execution_count": null,
   "metadata": {},
   "outputs": [],
   "source": [
    "name = 'Michael Jackson'\n",
    "def f():\n",
    "    print(name)\n",
    "f()"
   ]
  },
  {
   "cell_type": "code",
   "execution_count": null,
   "metadata": {},
   "outputs": [],
   "source": [
    "def f():\n",
    "    print(name)\n",
    "name = 'Michael Jackson'\n",
    "f()"
   ]
  },
  {
   "cell_type": "code",
   "execution_count": null,
   "metadata": {},
   "outputs": [],
   "source": [
    "def f():\n",
    "    print(name)\n",
    "\n",
    "f()\n",
    "name = 'Michael Jackson'"
   ]
  },
  {
   "cell_type": "markdown",
   "metadata": {},
   "source": [
    "### 对于闭包函数来说，还存在局部变量外的闭包层函数\n",
    "local 局部作用域； enclosing 闭包函数外的函数；global 全局作用域"
   ]
  },
  {
   "cell_type": "code",
   "execution_count": null,
   "metadata": {},
   "outputs": [],
   "source": [
    "global_x = 1        #全局变量\n",
    "def outer():\n",
    "    out_x = 2       #闭包函数外变量\n",
    "    def inner():\n",
    "        inner_x = 3 #局部变量\n",
    "        "
   ]
  },
  {
   "cell_type": "markdown",
   "metadata": {},
   "source": [
    "\n",
    "### 在嵌套结构中，按照 L –> E –> G的顺序查找变量。\n",
    "即：优先在局部作用域查找。局部找不到，去“局部外的局部” 找，再找不到就会去全局找。"
   ]
  },
  {
   "cell_type": "markdown",
   "metadata": {},
   "source": [
    "####  函数外的全局变量可以在函数内读取使用，但不可改变"
   ]
  },
  {
   "cell_type": "code",
   "execution_count": null,
   "metadata": {},
   "outputs": [],
   "source": [
    "name = \"jack\"\n",
    "def sayHello():\n",
    "    print(\"Hello\" + name + \"!\")\n",
    "    \n",
    "def changename(new_name):\n",
    "    name = new_name\n",
    "    \n",
    "changename(\"Mary\")\n",
    "sayHello()"
   ]
  },
  {
   "cell_type": "markdown",
   "metadata": {},
   "source": [
    "#### 如果改变需要全局变量，需要用关键字global声明"
   ]
  },
  {
   "cell_type": "code",
   "execution_count": null,
   "metadata": {},
   "outputs": [],
   "source": [
    "name = \"jack\"\n",
    "def sayHello():\n",
    "    print(\"Hello\" + name + \"!\")\n",
    "    \n",
    "def changename(new_name):\n",
    "    global name\n",
    "    name = new_name\n",
    "\n",
    "changename(\"Mary\")\n",
    "sayHello()"
   ]
  },
  {
   "cell_type": "markdown",
   "metadata": {},
   "source": [
    "#### 在函数外层修改全局变量"
   ]
  },
  {
   "cell_type": "code",
   "execution_count": null,
   "metadata": {},
   "outputs": [],
   "source": [
    "#思考，输出什么?\n",
    "name = 'tony'\n",
    "def f():\n",
    "    global name \n",
    "    name = 'tonyout'\n",
    "    def inner():\n",
    "        name = 'tonyin'\n",
    "        print(name)\n",
    "    inner()\n",
    "f()\n",
    "print(name)"
   ]
  },
  {
   "cell_type": "markdown",
   "metadata": {},
   "source": [
    "#### 函数中调用另一个函数"
   ]
  },
  {
   "cell_type": "code",
   "execution_count": null,
   "metadata": {},
   "outputs": [],
   "source": [
    "#思考，输出是什么？\n",
    "name = 'sjtu'\n",
    "\n",
    "def f1():\n",
    "    print(name)\n",
    "\n",
    "def f2():\n",
    "    name = 'TJU'\n",
    "    f1()\n",
    "    \n",
    "f2()"
   ]
  },
  {
   "cell_type": "markdown",
   "metadata": {},
   "source": [
    "### 修改函数内层变量，使用关键字 nonlocal"
   ]
  },
  {
   "cell_type": "code",
   "execution_count": null,
   "metadata": {},
   "outputs": [],
   "source": [
    "#思考，结果是什么\n",
    "\n",
    "a = 1\n",
    "def outer():\n",
    "    a = 2\n",
    "    def inner():\n",
    "        #nonlocal a\n",
    "        a = 3\n",
    "    inner()   \n",
    "    print(a)\n",
    "    \n",
    "outer()"
   ]
  },
  {
   "cell_type": "code",
   "execution_count": null,
   "metadata": {},
   "outputs": [],
   "source": [
    "#再加一层。。\n",
    "a = 1\n",
    "def outer():\n",
    "    a = 2\n",
    "    def inner():\n",
    "        #nonlocal a\n",
    "        a = 3\n",
    "        def inner2():\n",
    "            #nonlocal a\n",
    "            a = 4\n",
    "        inner2()\n",
    "        print(a)\n",
    "    inner()   \n",
    "    print(a)\n",
    "    \n",
    "outer()"
   ]
  },
  {
   "cell_type": "code",
   "execution_count": null,
   "metadata": {},
   "outputs": [],
   "source": [
    "#思考：输出是什么？global之后会怎么样？\n",
    "name = 'sjtu1'\n",
    "\n",
    "def f1():\n",
    "    #global name \n",
    "    name = 'sjtu2'\n",
    "    def inner():\n",
    "        nonlocal name\n",
    "        name = 'sjtu3'\n",
    "        print(name)\n",
    "    inner()\n",
    "    print(name)\n",
    "\n",
    "f1()"
   ]
  },
  {
   "cell_type": "markdown",
   "metadata": {},
   "source": [
    "#### 调用函数外的可变对象情况："
   ]
  },
  {
   "cell_type": "code",
   "execution_count": null,
   "metadata": {},
   "outputs": [],
   "source": [
    "b = [2,3]\n",
    "def asd():\n",
    "    b=[3,4]\n",
    "    print(b)\n",
    "asd()\n",
    "b"
   ]
  },
  {
   "cell_type": "code",
   "execution_count": null,
   "metadata": {},
   "outputs": [],
   "source": [
    "#思考，b会改变吗？为什么？\n",
    "b = [2,3]\n",
    "def asd():\n",
    "    b[0] = 1\n",
    "    print(b)\n",
    "asd()\n",
    "b"
   ]
  },
  {
   "cell_type": "markdown",
   "metadata": {},
   "source": [
    "#### 关于函数的返回值：print 不等于 return"
   ]
  },
  {
   "cell_type": "code",
   "execution_count": null,
   "metadata": {},
   "outputs": [],
   "source": [
    "def add(a,b):\n",
    "    print(a + b)\n",
    "x,y = 3,4\n",
    "add(x,y)"
   ]
  },
  {
   "cell_type": "code",
   "execution_count": null,
   "metadata": {},
   "outputs": [],
   "source": [
    "def add(a,b):\n",
    "    return a + b\n",
    "x,y = 3,4\n",
    "add(x,y)"
   ]
  },
  {
   "cell_type": "markdown",
   "metadata": {},
   "source": [
    "### 练习：\n",
    "建立一个函数对成绩进行评定，要求从100-60分别划分为ABCD四个等级。随机输入60-100范围内的5个数，给出数和相应的等级。"
   ]
  },
  {
   "cell_type": "code",
   "execution_count": null,
   "metadata": {},
   "outputs": [],
   "source": [
    "#code here\n",
    "\n",
    "\n",
    "\n",
    "\n",
    "\n",
    "\n",
    "\n",
    "\n",
    "\n",
    "\n"
   ]
  },
  {
   "cell_type": "markdown",
   "metadata": {},
   "source": [
    "<hr>"
   ]
  },
  {
   "cell_type": "markdown",
   "metadata": {},
   "source": [
    "<a id='ref6'></a>\n",
    "<center><h2>类与实例</h2></center>"
   ]
  },
  {
   "cell_type": "code",
   "execution_count": null,
   "metadata": {},
   "outputs": [],
   "source": [
    "#类的实例（1）\n",
    "class person:\n",
    "    def __init__(self,name,age):    #属性：初始化\n",
    "        self.name = name\n",
    "        self.age = age\n",
    "    def add(self):               #类的方法：函数\n",
    "        self.age += 1\n",
    "        print(self.age)\n",
    "    def add2(self):\n",
    "        self.age = self.age + 1      #self.xxx为类中的变量，在整个类中都可被识别\n",
    "        print(self.age)\n",
    "    \n",
    "A = person(\"Allen\",15)  #实例化\n",
    "\n",
    "A.add()   #实例调用类的方法\n",
    "A.add2()\n",
    "A.age"
   ]
  },
  {
   "cell_type": "code",
   "execution_count": null,
   "metadata": {},
   "outputs": [],
   "source": [
    "#类的实例（2）\n",
    "class Ball:\n",
    "    def __init__(self,color,size,direction):                     #在对象创建时完成初始化\n",
    "        self.color = color\n",
    "        self.size = size\n",
    "        self.direction = direction\n",
    "        \n",
    "    def bounce(self):\n",
    "        if self.direction == \"down\":\n",
    "            self.direction = \"up\"\n",
    "            \n",
    "myBall = Ball(\"red\",\"small\",\"down\")                                       #传入参数\n",
    "\n",
    "print(\"I just create a ball.\")\n",
    "print(\"My ball is\",myBall.size)\n",
    "print(\"My ball is\",myBall.color)\n",
    "print(\"My ball's direction is\",myBall.direction)\n",
    "print(\"Now I'm going to bounce the ball\")\n",
    "myBall.bounce()\n",
    "print(\"Now the ball's direction is\",myBall.direction)\n"
   ]
  },
  {
   "cell_type": "code",
   "execution_count": null,
   "metadata": {},
   "outputs": [],
   "source": [
    "#以一个热狗为例\n",
    "#属性： cooked_leverl cooked_string condiments 方法： cook() add_condiment() init str\n",
    "class HotDog:\n",
    "    def __init__(self):\n",
    "        self.cooked_level = 0\n",
    "        self.cooked_string = \"Raw\"\n",
    "        self.condiments = []                       #先从一个没有加任何配料的生热狗开始\n",
    "    \n",
    "    def cook(self,time):\n",
    "        self.cooked_level = self.cooked_level + time\n",
    "        if self.cooked_level > 8:\n",
    "            self.cooked_string = \"Charcoal\"\n",
    "        elif self.cooked_level > 5:\n",
    "            self.cooked_string = \"Well-done\"\n",
    "        elif self.cooked_level > 3:\n",
    "            self.cooked_string = \"Medium\"\n",
    "        else:\n",
    "            self.cooked_string = \"Raw\"\n",
    "        \n",
    "myDog = HotDog()\n",
    "print(myDog.cooked_level)\n",
    "print(myDog.cooked_string)\n",
    "print(myDog.condiments)                              #这仅仅测试的是初始数据\n",
    "\n",
    "print(\"Now I'm going to cook the hot dog\")\n",
    "myDog.cook(4)\n",
    "print(myDog.cooked_level)\n",
    "print(myDog.cooked_string)\n",
    "\n"
   ]
  },
  {
   "cell_type": "code",
   "execution_count": null,
   "metadata": {},
   "outputs": [],
   "source": [
    "class HotDog:\n",
    "    def __init__(self):                                       #先从一个没有加任何配料的生热狗开始\n",
    "        self.cooked_level = 0\n",
    "        self.cooked_string = \"Raw\"\n",
    "        self.condiments = []                           \n",
    "        \n",
    "    def __str__(self):                                        #定义新的__str__方法\n",
    "        msg = \"Hot dog\"\n",
    "        if len(self.condiments)>0:\n",
    "            msg = msg +\" with \"\n",
    "        for i in self.condiments:\n",
    "            msg = msg + i + \", \"\n",
    "        msg = msg.strip(\", \")                                 # msg.strip(\",\")用来删除头部尾部的逗号  \n",
    "        msg = self.cooked_string + \" \" + msg + \".\"\n",
    "        return msg\n",
    "    \n",
    "    def cook(self,time):                                      #添加方法1：cook\n",
    "        self.cooked_level = self.cooked_level + time\n",
    "        if self.cooked_level > 8:\n",
    "            self.cooked_string = \"Charcoal\"\n",
    "        elif self.cooked_level > 5:\n",
    "            self.cooked_string = \"Well-done\"\n",
    "        elif self.cooked_level > 3:\n",
    "            self.cooked_string = \"Medium\"\n",
    "        else:\n",
    "            self.cooked_string = \"Raw\"\n",
    "        \n",
    "    def addCondiment(self,condiment):                         #添加方法2：加料\n",
    "        self.condiments.append(condiment) \n",
    "        \n",
    "myDog = HotDog()\n",
    "print(myDog.cooked_level)\n",
    "print(myDog.cooked_string)\n",
    "print(myDog.condiments)                                      #这仅仅测试的是初始数据\n",
    "\n",
    "print(myDog)\n",
    "print(\"Cooking hot dog for 4 minutes...\")\n",
    "myDog.cook(4)\n",
    "print(myDog)\n",
    "print(\"Cooking hot dog for 3 more minutes...\")\n",
    "myDog.cook(3)\n",
    "print(myDog)\n",
    "print(\"What happens if I cook it for 10 more minutes...\")\n",
    "myDog.cook(10)\n",
    "print(myDog)\n",
    "print(\"Now I'm going to add some stuff on my hot dog\")\n",
    "myDog.addCondiment(\"ketchup\")\n",
    "myDog.addCondiment(\"mustard\")\n",
    "print(myDog)\n"
   ]
  },
  {
   "cell_type": "markdown",
   "metadata": {},
   "source": [
    "### 理解类变量与实例变量"
   ]
  },
  {
   "cell_type": "code",
   "execution_count": null,
   "metadata": {},
   "outputs": [],
   "source": [
    "class A:\n",
    "    w = 10\n",
    "\n",
    "    def __init__(self):\n",
    "        self.x = 11\n",
    "        self.y = 12\n",
    "\n",
    "    def add(self):\n",
    "        return self.x + self.y\n",
    "\n",
    "a = A()\n",
    "a.add()"
   ]
  },
  {
   "cell_type": "code",
   "execution_count": null,
   "metadata": {},
   "outputs": [],
   "source": [
    "# 怎样理解这m和n？他们是类变量\n",
    "A.m = 30\n",
    "A.n = 40\n",
    "print (A.m, A.n)  \n"
   ]
  },
  {
   "cell_type": "code",
   "execution_count": null,
   "metadata": {},
   "outputs": [],
   "source": [
    "# 怎样理解这t和q？他们是实例变量\n",
    "a.t = 14\n",
    "a.q = 15\n",
    "print (a.t, a.q)  \n",
    "a.w"
   ]
  },
  {
   "cell_type": "code",
   "execution_count": null,
   "metadata": {},
   "outputs": [],
   "source": [
    "# 程序继续增加,下列三个print语句都能正确执行么？为何？\n",
    "\n",
    "b = A()\n",
    "print (b.x, b.y)  \n",
    "print (b.m, b.n) \n"
   ]
  },
  {
   "cell_type": "code",
   "execution_count": null,
   "metadata": {},
   "outputs": [],
   "source": [
    "print (b.t, b.q)"
   ]
  },
  {
   "cell_type": "markdown",
   "metadata": {},
   "source": [
    "### 最后，关于类的继承，先做一个基础的类的练习。"
   ]
  },
  {
   "cell_type": "markdown",
   "metadata": {},
   "source": [
    "### 练习:\n",
    "为BankAccount 建立一个类定义。\n",
    "\n",
    "它应该有一些属性，包括账户名（一个字符串）、账号（一个字符串或整数）和余额（一个浮点数），\n",
    "\n",
    "另外还要有一些方法：显示余额、存钱和取钱。\n"
   ]
  },
  {
   "cell_type": "code",
   "execution_count": null,
   "metadata": {},
   "outputs": [],
   "source": [
    "#code here\n",
    "\n",
    "\n",
    "\n",
    "\n",
    "\n",
    "\n",
    "\n",
    "\n",
    "\n",
    "\n",
    "\n",
    "\n",
    "\n"
   ]
  },
  {
   "cell_type": "markdown",
   "metadata": {},
   "source": [
    "### 进一步:\n",
    "建立一个可以挣利息的类，名为InterestAccount。\n",
    "\n",
    "这应当是BankAccount的一个子类（所以会继承其属性和方法）。\n",
    "\n",
    "InterestAccount还应当有一个对应利息率的属性，另外有一个方法来增加利息。\n",
    "\n",
    "为了简化，假设每年会调用一次addInterest()方法计算利息并更新余额。\n",
    "\n"
   ]
  },
  {
   "cell_type": "code",
   "execution_count": null,
   "metadata": {},
   "outputs": [],
   "source": [
    "#code here\n",
    "\n",
    "\n",
    "\n",
    "\n",
    "\n",
    "\n",
    "\n",
    "\n",
    "\n",
    "\n",
    "\n",
    "\n",
    "\n",
    "\n"
   ]
  },
  {
   "cell_type": "markdown",
   "metadata": {},
   "source": [
    "### 练习：\n",
    "\n",
    "1、球体类（Sphere）\n",
    "\n",
    "- 类属性:  diameter（直径）、density（密度）、color（颜色）\n",
    "- 类方法：计算体积volume()、计算质量quality()\n",
    "\n",
    "\n",
    "2、球壳类（Spherical_shell）\n",
    "\n",
    "- 类属性：继承Sphere，同时新增iner_diameter（内径）属性\n",
    "- 类方法：将quality()与volume()方法重写\n",
    "\n",
    "完成以上两个类，同时创建以下两个实例。\n",
    "\n",
    "分别计算体积与质量：\n",
    "（1）红球，直径5，密度2；（2）黑球壳，直径5，内径3，密度2.5；\n",
    "π可用math函数导入\n"
   ]
  },
  {
   "cell_type": "code",
   "execution_count": null,
   "metadata": {},
   "outputs": [],
   "source": [
    "#code here\n",
    "\n",
    "\n",
    "\n",
    "\n",
    "\n",
    "\n",
    "\n",
    "\n",
    "\n",
    "\n",
    "\n",
    "\n"
   ]
  },
  {
   "cell_type": "markdown",
   "metadata": {},
   "source": [
    "<hr>"
   ]
  }
 ],
 "metadata": {
  "anaconda-cloud": {},
  "kernelspec": {
   "display_name": "Python 3",
   "language": "python",
   "name": "python3"
  },
  "language_info": {
   "codemirror_mode": {
    "name": "ipython",
    "version": 3
   },
   "file_extension": ".py",
   "mimetype": "text/x-python",
   "name": "python",
   "nbconvert_exporter": "python",
   "pygments_lexer": "ipython3",
   "version": "3.7.6"
  },
  "name": "_merged"
 },
 "nbformat": 4,
 "nbformat_minor": 1
}
