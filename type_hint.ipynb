{
 "cells": [
  {
   "cell_type": "markdown",
   "source": [
    "# 为什么需要Type hint？\n",
    "让我们从最简单的例子开始："
   ],
   "metadata": {
    "collapsed": false
   },
   "id": "e0466b258ba04a09"
  },
  {
   "cell_type": "code",
   "execution_count": 1,
   "id": "initial_id",
   "metadata": {
    "collapsed": true,
    "ExecuteTime": {
     "end_time": "2023-10-30T08:51:03.768911Z",
     "start_time": "2023-10-30T08:51:03.388983Z"
    }
   },
   "outputs": [
    {
     "name": "stdout",
     "output_type": "stream",
     "text": [
      "John Doe\n"
     ]
    }
   ],
   "source": [
    "def get_full_name(first_name, last_name):\n",
    "    full_name = first_name.title() + \" \" + last_name.title()\n",
    "    return full_name\n",
    "\n",
    "print(get_full_name(\"john\", \"doe\"))"
   ]
  },
  {
   "cell_type": "markdown",
   "source": [
    "现在，想象你在重新写这几行代码。你想要找到能让字母大写的函数。***但你忘记它是什么了。***"
   ],
   "metadata": {
    "collapsed": false
   },
   "id": "8d5b9b552061b289"
  },
  {
   "cell_type": "code",
   "execution_count": 2,
   "outputs": [],
   "source": [
    "def get_full_name(first_name, last_name):\n",
    "    full_name = first_name"
   ],
   "metadata": {
    "collapsed": false,
    "ExecuteTime": {
     "end_time": "2023-10-30T08:51:03.906665Z",
     "start_time": "2023-10-30T08:51:03.399392Z"
    }
   },
   "id": "d44d9b72de1503cd"
  },
  {
   "cell_type": "markdown",
   "source": [
    "尝试下在`first_name`后加一个点，看看IDE会给你提示些什么。你会发现只有一个叫`title`的东西。这是上一个code block遗留下来的用法，而且用法还是错的。\n",
    "\n",
    "**那怎么让IDE知道你这个变量是一个字符串，并且提示你字符串该有的方法呢？**"
   ],
   "metadata": {
    "collapsed": false
   },
   "id": "51ddb35002074eac"
  },
  {
   "cell_type": "code",
   "execution_count": 3,
   "outputs": [],
   "source": [
    "def get_full_name(first_name: str, last_name: str):\n",
    "    full_name = first_name"
   ],
   "metadata": {
    "collapsed": false,
    "ExecuteTime": {
     "end_time": "2023-10-30T08:51:03.963129Z",
     "start_time": "2023-10-30T08:51:03.404950Z"
    }
   },
   "id": "99bc318aeca9bc60"
  },
  {
   "cell_type": "markdown",
   "source": [
    "你会发现在argument后加上了`: str`后，IDE就能正确的帮你提示了。\n",
    "\n",
    "`[var]: type`的表达方式就是type hint。"
   ],
   "metadata": {
    "collapsed": false
   },
   "id": "aeb4bd6c99b83f9f"
  },
  {
   "cell_type": "markdown",
   "source": [
    "再来个例子。还是之前的`get_full_name()`。如果你没有定义type hint，用户输入了一个不是字符串的argument，会发生什么呢？"
   ],
   "metadata": {
    "collapsed": false
   },
   "id": "f30e5ed00a23926b"
  },
  {
   "cell_type": "code",
   "execution_count": 5,
   "outputs": [
    {
     "ename": "AttributeError",
     "evalue": "'int' object has no attribute 'title'",
     "output_type": "error",
     "traceback": [
      "\u001B[0;31m---------------------------------------------------------------------------\u001B[0m",
      "\u001B[0;31mAttributeError\u001B[0m                            Traceback (most recent call last)",
      "Cell \u001B[0;32mIn[5], line 6\u001B[0m\n\u001B[1;32m      2\u001B[0m     full_name \u001B[38;5;241m=\u001B[39m first_name\u001B[38;5;241m.\u001B[39mtitle() \u001B[38;5;241m+\u001B[39m \u001B[38;5;124m\"\u001B[39m\u001B[38;5;124m \u001B[39m\u001B[38;5;124m\"\u001B[39m \u001B[38;5;241m+\u001B[39m last_name\u001B[38;5;241m.\u001B[39mtitle()\n\u001B[1;32m      3\u001B[0m     \u001B[38;5;28;01mreturn\u001B[39;00m full_name\n\u001B[0;32m----> 6\u001B[0m \u001B[38;5;28mprint\u001B[39m(\u001B[43mget_full_name\u001B[49m\u001B[43m(\u001B[49m\u001B[38;5;241;43m111\u001B[39;49m\u001B[43m,\u001B[49m\u001B[43m \u001B[49m\u001B[38;5;124;43m\"\u001B[39;49m\u001B[38;5;124;43mdoe\u001B[39;49m\u001B[38;5;124;43m\"\u001B[39;49m\u001B[43m)\u001B[49m)\n",
      "Cell \u001B[0;32mIn[5], line 2\u001B[0m, in \u001B[0;36mget_full_name\u001B[0;34m(first_name, last_name)\u001B[0m\n\u001B[1;32m      1\u001B[0m \u001B[38;5;28;01mdef\u001B[39;00m \u001B[38;5;21mget_full_name\u001B[39m(first_name, last_name):\n\u001B[0;32m----> 2\u001B[0m     full_name \u001B[38;5;241m=\u001B[39m \u001B[43mfirst_name\u001B[49m\u001B[38;5;241;43m.\u001B[39;49m\u001B[43mtitle\u001B[49m() \u001B[38;5;241m+\u001B[39m \u001B[38;5;124m\"\u001B[39m\u001B[38;5;124m \u001B[39m\u001B[38;5;124m\"\u001B[39m \u001B[38;5;241m+\u001B[39m last_name\u001B[38;5;241m.\u001B[39mtitle()\n\u001B[1;32m      3\u001B[0m     \u001B[38;5;28;01mreturn\u001B[39;00m full_name\n",
      "\u001B[0;31mAttributeError\u001B[0m: 'int' object has no attribute 'title'"
     ]
    }
   ],
   "source": [
    "def get_full_name(first_name, last_name):\n",
    "    full_name = first_name.title() + \" \" + last_name.title()\n",
    "    return full_name\n",
    "\n",
    "\n",
    "print(get_full_name(111, \"doe\"))"
   ],
   "metadata": {
    "collapsed": false,
    "ExecuteTime": {
     "end_time": "2023-10-30T09:17:40.587113Z",
     "start_time": "2023-10-30T09:17:40.556604Z"
    }
   },
   "id": "b6e7a6aba0202780"
  },
  {
   "cell_type": "markdown",
   "source": [
    "报错。如果加了type hint呢？"
   ],
   "metadata": {
    "collapsed": false
   },
   "id": "d055b4a15741df65"
  },
  {
   "cell_type": "code",
   "execution_count": 6,
   "outputs": [
    {
     "ename": "AttributeError",
     "evalue": "'int' object has no attribute 'title'",
     "output_type": "error",
     "traceback": [
      "\u001B[0;31m---------------------------------------------------------------------------\u001B[0m",
      "\u001B[0;31mAttributeError\u001B[0m                            Traceback (most recent call last)",
      "Cell \u001B[0;32mIn[6], line 6\u001B[0m\n\u001B[1;32m      2\u001B[0m     full_name \u001B[38;5;241m=\u001B[39m first_name\u001B[38;5;241m.\u001B[39mtitle() \u001B[38;5;241m+\u001B[39m \u001B[38;5;124m\"\u001B[39m\u001B[38;5;124m \u001B[39m\u001B[38;5;124m\"\u001B[39m \u001B[38;5;241m+\u001B[39m last_name\u001B[38;5;241m.\u001B[39mtitle()\n\u001B[1;32m      3\u001B[0m     \u001B[38;5;28;01mreturn\u001B[39;00m full_name\n\u001B[0;32m----> 6\u001B[0m \u001B[38;5;28mprint\u001B[39m(\u001B[43mget_full_name\u001B[49m\u001B[43m(\u001B[49m\u001B[38;5;241;43m111\u001B[39;49m\u001B[43m,\u001B[49m\u001B[43m \u001B[49m\u001B[38;5;124;43m\"\u001B[39;49m\u001B[38;5;124;43mdoe\u001B[39;49m\u001B[38;5;124;43m\"\u001B[39;49m\u001B[43m)\u001B[49m)\n",
      "Cell \u001B[0;32mIn[6], line 2\u001B[0m, in \u001B[0;36mget_full_name\u001B[0;34m(first_name, last_name)\u001B[0m\n\u001B[1;32m      1\u001B[0m \u001B[38;5;28;01mdef\u001B[39;00m \u001B[38;5;21mget_full_name\u001B[39m(first_name: \u001B[38;5;28mstr\u001B[39m, last_name: \u001B[38;5;28mstr\u001B[39m):\n\u001B[0;32m----> 2\u001B[0m     full_name \u001B[38;5;241m=\u001B[39m \u001B[43mfirst_name\u001B[49m\u001B[38;5;241;43m.\u001B[39;49m\u001B[43mtitle\u001B[49m() \u001B[38;5;241m+\u001B[39m \u001B[38;5;124m\"\u001B[39m\u001B[38;5;124m \u001B[39m\u001B[38;5;124m\"\u001B[39m \u001B[38;5;241m+\u001B[39m last_name\u001B[38;5;241m.\u001B[39mtitle()\n\u001B[1;32m      3\u001B[0m     \u001B[38;5;28;01mreturn\u001B[39;00m full_name\n",
      "\u001B[0;31mAttributeError\u001B[0m: 'int' object has no attribute 'title'"
     ]
    }
   ],
   "source": [
    "def get_full_name(first_name: str, last_name: str):\n",
    "    full_name = first_name.title() + \" \" + last_name.title()\n",
    "    return full_name\n",
    "\n",
    "\n",
    "print(get_full_name(111, \"doe\"))"
   ],
   "metadata": {
    "collapsed": false,
    "ExecuteTime": {
     "end_time": "2023-10-30T09:17:51.853938Z",
     "start_time": "2023-10-30T09:17:51.832602Z"
    }
   },
   "id": "1fc7e717403cae52"
  },
  {
   "cell_type": "markdown",
   "source": [
    "他不会像你所期待的那样。它还是在报相同的错。**根本原因在于：Python的Type hint真的只是“hint\"，给编辑器作个提示罢了。至于Type \"check\"，Python说不关我事。**\n",
    "\n",
    "这时候有请我们的下一位主角登场："
   ],
   "metadata": {
    "collapsed": false
   },
   "id": "c9bc99f660c4541c"
  },
  {
   "cell_type": "code",
   "execution_count": 7,
   "outputs": [
    {
     "name": "stdout",
     "output_type": "stream",
     "text": [
      "Requirement already satisfied: pydantic in /Users/qwerzl/Library/Caches/pypoetry/virtualenvs/讲义-nufFT1eh-py3.11/lib/python3.11/site-packages (2.4.2)\r\n",
      "Requirement already satisfied: annotated-types>=0.4.0 in /Users/qwerzl/Library/Caches/pypoetry/virtualenvs/讲义-nufFT1eh-py3.11/lib/python3.11/site-packages (from pydantic) (0.6.0)\r\n",
      "Requirement already satisfied: pydantic-core==2.10.1 in /Users/qwerzl/Library/Caches/pypoetry/virtualenvs/讲义-nufFT1eh-py3.11/lib/python3.11/site-packages (from pydantic) (2.10.1)\r\n",
      "Requirement already satisfied: typing-extensions>=4.6.1 in /Users/qwerzl/Library/Caches/pypoetry/virtualenvs/讲义-nufFT1eh-py3.11/lib/python3.11/site-packages (from pydantic) (4.8.0)\r\n",
      "\r\n",
      "\u001B[1m[\u001B[0m\u001B[34;49mnotice\u001B[0m\u001B[1;39;49m]\u001B[0m\u001B[39;49m A new release of pip available: \u001B[0m\u001B[31;49m22.2.2\u001B[0m\u001B[39;49m -> \u001B[0m\u001B[32;49m23.3.1\u001B[0m\r\n",
      "\u001B[1m[\u001B[0m\u001B[34;49mnotice\u001B[0m\u001B[1;39;49m]\u001B[0m\u001B[39;49m To update, run: \u001B[0m\u001B[32;49mpip install --upgrade pip\u001B[0m\r\n"
     ]
    }
   ],
   "source": [
    "!pip install pydantic"
   ],
   "metadata": {
    "collapsed": false,
    "ExecuteTime": {
     "end_time": "2023-10-30T09:18:37.619359Z",
     "start_time": "2023-10-30T09:18:35.529398Z"
    }
   },
   "id": "cccec740c76a0437"
  },
  {
   "cell_type": "markdown",
   "source": [
    "Pydantic是个神奇的库。官网简介，Pydantic is the most widely used data validation library for Python。它通过一系列自定义的class，实现了Type Validation。\n",
    "\n",
    "让我们再尝试一遍："
   ],
   "metadata": {
    "collapsed": false
   },
   "id": "d657338eadbb5abe"
  },
  {
   "cell_type": "code",
   "execution_count": 8,
   "outputs": [
    {
     "ename": "ValidationError",
     "evalue": "1 validation error for NameType\nfirst_name\n  Input should be a valid string [type=string_type, input_value=1111, input_type=int]\n    For further information visit https://errors.pydantic.dev/2.4/v/string_type",
     "output_type": "error",
     "traceback": [
      "\u001B[0;31m---------------------------------------------------------------------------\u001B[0m",
      "\u001B[0;31mValidationError\u001B[0m                           Traceback (most recent call last)",
      "Cell \u001B[0;32mIn[8], line 12\u001B[0m\n\u001B[1;32m      8\u001B[0m     full_name \u001B[38;5;241m=\u001B[39m name\u001B[38;5;241m.\u001B[39mfirst_name\u001B[38;5;241m.\u001B[39mtitle() \u001B[38;5;241m+\u001B[39m \u001B[38;5;124m\"\u001B[39m\u001B[38;5;124m \u001B[39m\u001B[38;5;124m\"\u001B[39m \u001B[38;5;241m+\u001B[39m name\u001B[38;5;241m.\u001B[39mlast_name\u001B[38;5;241m.\u001B[39mtitle()\n\u001B[1;32m      9\u001B[0m     \u001B[38;5;28;01mreturn\u001B[39;00m full_name\n\u001B[0;32m---> 12\u001B[0m \u001B[38;5;28mprint\u001B[39m(get_full_name(\u001B[43mNameType\u001B[49m\u001B[43m(\u001B[49m\u001B[43mfirst_name\u001B[49m\u001B[38;5;241;43m=\u001B[39;49m\u001B[38;5;241;43m1111\u001B[39;49m\u001B[43m,\u001B[49m\u001B[43m \u001B[49m\u001B[43mlast_name\u001B[49m\u001B[38;5;241;43m=\u001B[39;49m\u001B[38;5;124;43m\"\u001B[39;49m\u001B[38;5;124;43mDoe\u001B[39;49m\u001B[38;5;124;43m\"\u001B[39;49m\u001B[43m)\u001B[49m))\n",
      "File \u001B[0;32m~/Library/Caches/pypoetry/virtualenvs/讲义-nufFT1eh-py3.11/lib/python3.11/site-packages/pydantic/main.py:164\u001B[0m, in \u001B[0;36mBaseModel.__init__\u001B[0;34m(__pydantic_self__, **data)\u001B[0m\n\u001B[1;32m    162\u001B[0m \u001B[38;5;66;03m# `__tracebackhide__` tells pytest and some other tools to omit this function from tracebacks\u001B[39;00m\n\u001B[1;32m    163\u001B[0m __tracebackhide__ \u001B[38;5;241m=\u001B[39m \u001B[38;5;28;01mTrue\u001B[39;00m\n\u001B[0;32m--> 164\u001B[0m \u001B[43m__pydantic_self__\u001B[49m\u001B[38;5;241;43m.\u001B[39;49m\u001B[43m__pydantic_validator__\u001B[49m\u001B[38;5;241;43m.\u001B[39;49m\u001B[43mvalidate_python\u001B[49m\u001B[43m(\u001B[49m\u001B[43mdata\u001B[49m\u001B[43m,\u001B[49m\u001B[43m \u001B[49m\u001B[43mself_instance\u001B[49m\u001B[38;5;241;43m=\u001B[39;49m\u001B[43m__pydantic_self__\u001B[49m\u001B[43m)\u001B[49m\n",
      "\u001B[0;31mValidationError\u001B[0m: 1 validation error for NameType\nfirst_name\n  Input should be a valid string [type=string_type, input_value=1111, input_type=int]\n    For further information visit https://errors.pydantic.dev/2.4/v/string_type"
     ]
    }
   ],
   "source": [
    "from pydantic import BaseModel\n",
    "\n",
    "class NameType(BaseModel):\n",
    "    first_name: str\n",
    "    last_name: str\n",
    "    \n",
    "def get_full_name(name: NameType):\n",
    "    full_name = name.first_name.title() + \" \" + name.last_name.title()\n",
    "    return full_name\n",
    "\n",
    "\n",
    "print(get_full_name(NameType(first_name=1111, last_name=\"Doe\")))"
   ],
   "metadata": {
    "collapsed": false,
    "ExecuteTime": {
     "end_time": "2023-10-30T09:31:15.407019Z",
     "start_time": "2023-10-30T09:31:15.253904Z"
    }
   },
   "id": "b966711971a9a828"
  },
  {
   "cell_type": "markdown",
   "source": [
    "同样是报错，但这一报错指明了这是用户的错，不是软件的锅。更重要的是，Type Validation可以尽早地发现Type Error，直接在函数运行前就阻止了可能带来的隐患。\n",
    "\n",
    "俗话说“Never trust user input\"，Type Validation是一个非常好的Practice。很多软件正是因为这方面的疏忽，导致一些别有用心的用户输入一些精心设计的内容，导致出现问题。\n",
    "\n",
    "\n",
    "---\n",
    "\n",
    "接下来让我们再看几个复杂的type。（Pydantic先放到一边，无非是多一步定义Class。**[如果以下的代码报错，请更新你的Python版本]**\n",
    "\n",
    "**1. List**"
   ],
   "metadata": {
    "collapsed": false
   },
   "id": "bd89ab4ac936546e"
  },
  {
   "cell_type": "code",
   "execution_count": null,
   "outputs": [],
   "source": [
    "def process_items(items: list[str]):\n",
    "    for item in items:\n",
    "        print(item)"
   ],
   "metadata": {
    "collapsed": false,
    "ExecuteTime": {
     "start_time": "2023-10-30T08:51:03.583429Z"
    }
   },
   "id": "40bc68b60233da89"
  },
  {
   "cell_type": "markdown",
   "source": [
    "它的意思是：这个叫`items`的变量是个`list`，这个`list`里面都是`str`。\n",
    "\n",
    "**2. Tuple & Set**"
   ],
   "metadata": {
    "collapsed": false
   },
   "id": "20989fd9e98f974d"
  },
  {
   "cell_type": "code",
   "execution_count": null,
   "outputs": [],
   "source": [
    "def process_items(items_t: tuple[int, int, str], items_s: set[bytes]):\n",
    "    return items_t, items_s"
   ],
   "metadata": {
    "collapsed": false,
    "ExecuteTime": {
     "start_time": "2023-10-30T08:51:03.588018Z"
    }
   },
   "id": "118d9cf0f9b3a963"
  },
  {
   "cell_type": "markdown",
   "source": [
    "与`list`用法类似。\n",
    "1. 变量`items_t`是一个`tuple`，内含三个元素，分别是`int`, `int`和`str`。(这一定义方式也适用于`list`和`set`，反之亦然）\n",
    "2. 变量`items_s`是一个`set`，里面的元素全是`bytes`。\n",
    "\n",
    "**3. Dict**"
   ],
   "metadata": {
    "collapsed": false
   },
   "id": "9ddc60a8eb6331b7"
  },
  {
   "cell_type": "code",
   "execution_count": null,
   "outputs": [],
   "source": [
    "def process_items(prices: dict[str, float]):\n",
    "    for item_name, item_price in prices.items():\n",
    "        print(item_name)\n",
    "        print(item_price)"
   ],
   "metadata": {
    "collapsed": false,
    "ExecuteTime": {
     "start_time": "2023-10-30T08:51:03.590668Z"
    }
   },
   "id": "9214567368f55bea"
  },
  {
   "cell_type": "markdown",
   "source": [
    "`dict`也很简单: `dict[key_type, value_type]`\n",
    "在这一例子中，`prices`是一个`dict`。这个字典中，键一定是`str`，值一定是`float`。\n",
    "\n",
    "**4. Union**"
   ],
   "metadata": {
    "collapsed": false
   },
   "id": "2e2f181fa616f1fa"
  },
  {
   "cell_type": "code",
   "execution_count": null,
   "outputs": [],
   "source": [
    "def process_item(item: int | str):\n",
    "    print(item)"
   ],
   "metadata": {
    "collapsed": false,
    "ExecuteTime": {
     "start_time": "2023-10-30T08:51:03.592567Z"
    }
   },
   "id": "83c7a03074177472"
  },
  {
   "cell_type": "markdown",
   "source": [
    "`Union`不是一个type，它是一个用法。它的意思是：`item`既可以是`int`，也可以是`str`。\n",
    "\n",
    "union还有一个特殊用法："
   ],
   "metadata": {
    "collapsed": false
   },
   "id": "76f988612d947dd2"
  },
  {
   "cell_type": "code",
   "execution_count": null,
   "outputs": [],
   "source": [
    "def process_item(item: int | None):\n",
    "    print(item)"
   ],
   "metadata": {
    "collapsed": false,
    "ExecuteTime": {
     "start_time": "2023-10-30T08:51:03.595133Z"
    }
   },
   "id": "d475c85a8d4dba42"
  },
  {
   "cell_type": "markdown",
   "source": [
    "表示process_item既可以是`int`，也可以是空值。这里有一个容易搞混的地方在于：它可以是`None`不代表它可以不传入！"
   ],
   "metadata": {
    "collapsed": false
   },
   "id": "7571c5bf51e6491e"
  },
  {
   "cell_type": "code",
   "execution_count": 9,
   "outputs": [
    {
     "ename": "NameError",
     "evalue": "name 'process_item' is not defined",
     "output_type": "error",
     "traceback": [
      "\u001B[0;31m---------------------------------------------------------------------------\u001B[0m",
      "\u001B[0;31mNameError\u001B[0m                                 Traceback (most recent call last)",
      "Cell \u001B[0;32mIn[9], line 1\u001B[0m\n\u001B[0;32m----> 1\u001B[0m \u001B[43mprocess_item\u001B[49m()\n",
      "\u001B[0;31mNameError\u001B[0m: name 'process_item' is not defined"
     ]
    }
   ],
   "source": [
    "process_item()"
   ],
   "metadata": {
    "collapsed": false,
    "ExecuteTime": {
     "end_time": "2023-10-30T09:36:23.442123Z",
     "start_time": "2023-10-30T09:36:23.420754Z"
    }
   },
   "id": "33d70ad462878419"
  },
  {
   "cell_type": "markdown",
   "source": [
    "以上代码是会报错的！\n",
    "\n",
    "以下是正确代码："
   ],
   "metadata": {
    "collapsed": false
   },
   "id": "98771196058f49c3"
  },
  {
   "cell_type": "code",
   "execution_count": null,
   "outputs": [],
   "source": [
    "process_item(None)"
   ],
   "metadata": {
    "collapsed": false,
    "ExecuteTime": {
     "start_time": "2023-10-30T08:51:03.611654Z"
    }
   },
   "id": "799c9c87246a03dc"
  },
  {
   "cell_type": "markdown",
   "source": [
    "这里再添加一点。函数参数的默认值。"
   ],
   "metadata": {
    "collapsed": false
   },
   "id": "ef235de2785cd14b"
  },
  {
   "cell_type": "code",
   "execution_count": null,
   "outputs": [],
   "source": [
    "def test(arg1 = \"Hi!\"):\n",
    "    print(arg1)\n",
    "    \n",
    "test()"
   ],
   "metadata": {
    "collapsed": false
   },
   "id": "5c90196171ee06e6"
  },
  {
   "cell_type": "markdown",
   "source": [
    "能不传入参数的是这种情况。在定义函数时已经给出默认值，即使调用时不传参也可以继续执行。\n",
    "\n",
    "把它和Type Hint结合一下："
   ],
   "metadata": {
    "collapsed": false
   },
   "id": "7724b7641ad8127a"
  },
  {
   "cell_type": "code",
   "execution_count": null,
   "outputs": [],
   "source": [
    "def test(arg1: str = \"Hi!\"):\n",
    "    print(arg1)\n",
    "    \n",
    "test()"
   ],
   "metadata": {
    "collapsed": false,
    "ExecuteTime": {
     "start_time": "2023-10-30T08:51:03.617159Z"
    }
   },
   "id": "1c8bdb08b8133553"
  },
  {
   "cell_type": "code",
   "execution_count": null,
   "outputs": [],
   "source": [
    "def test(arg1: str | int = \"Hi!\"):\n",
    "    print(arg1)\n",
    "    \n",
    "test()"
   ],
   "metadata": {
    "collapsed": false,
    "ExecuteTime": {
     "start_time": "2023-10-30T08:51:03.618624Z"
    }
   },
   "id": "9c25d2effea3a193"
  },
  {
   "cell_type": "markdown",
   "source": [
    "## **练习：**"
   ],
   "metadata": {
    "collapsed": false
   },
   "id": "603b887f7eb14f89"
  },
  {
   "cell_type": "code",
   "execution_count": null,
   "outputs": [],
   "source": [
    "def get_max_score(score_dic):\n",
    "    \"\"\"\n",
    "    返回学生考试成绩的最高分的科目和分数\n",
    "    :param score_dic:\n",
    "    :return:\n",
    "    \"\"\"\n",
    "    max_score = 0\n",
    "    max_score_course = ''\n",
    "    for course, score in score_dic.items():\n",
    "        if score > max_score:\n",
    "            max_score = score\n",
    "            max_score_course = course\n",
    "\n",
    "    return max_score_course, max_score\n",
    "\n",
    "dic = {\n",
    "    'chinese': 90,\n",
    "    'math': 97,\n",
    "    'english': 98\n",
    "}\n",
    "\n",
    "course, score = get_max_score(dic)\n",
    "print(course, score)"
   ],
   "metadata": {
    "collapsed": false,
    "ExecuteTime": {
     "start_time": "2023-10-30T08:51:03.619628Z"
    }
   },
   "id": "aa432404ed88234a"
  },
  {
   "cell_type": "markdown",
   "source": [
    "请你根据以上的`dic`，用Pydantic定义一个成绩的Model，改写以上代码，给它加上严格的Type Check。成绩是Optional，如果未输入则默认为0。\n",
    "如果能自查文档，自己写一个validator，验证成绩在0-100分之间，那就更好啦！:-）"
   ],
   "metadata": {
    "collapsed": false
   },
   "id": "cace7ee7554770a4"
  },
  {
   "cell_type": "code",
   "execution_count": null,
   "outputs": [],
   "source": [
    "\n",
    "\n",
    "\n",
    "\n",
    "\n",
    "\n",
    "\n",
    "\n",
    "\n",
    "\n",
    "\n"
   ],
   "metadata": {
    "collapsed": false,
    "ExecuteTime": {
     "start_time": "2023-10-30T08:51:03.623757Z"
    }
   },
   "id": "30d001be879171c1"
  }
 ],
 "metadata": {
  "kernelspec": {
   "display_name": "Python 3",
   "language": "python",
   "name": "python3"
  },
  "language_info": {
   "codemirror_mode": {
    "name": "ipython",
    "version": 2
   },
   "file_extension": ".py",
   "mimetype": "text/x-python",
   "name": "python",
   "nbconvert_exporter": "python",
   "pygments_lexer": "ipython2",
   "version": "2.7.6"
  }
 },
 "nbformat": 4,
 "nbformat_minor": 5
}
